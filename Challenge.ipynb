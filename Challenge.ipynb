{
  "nbformat": 4,
  "nbformat_minor": 0,
  "metadata": {
    "colab": {
      "provenance": [],
      "authorship_tag": "ABX9TyPvYrD/0xPgufX476H4EQwM",
      "include_colab_link": true
    },
    "kernelspec": {
      "name": "python3",
      "display_name": "Python 3"
    },
    "language_info": {
      "name": "python"
    }
  },
  "cells": [
    {
      "cell_type": "markdown",
      "metadata": {
        "id": "view-in-github",
        "colab_type": "text"
      },
      "source": [
        "<a href=\"https://colab.research.google.com/github/MileneBedouhene/Heart-Disease-Prediction/blob/main/Challenge.ipynb\" target=\"_parent\"><img src=\"https://colab.research.google.com/assets/colab-badge.svg\" alt=\"Open In Colab\"/></a>"
      ]
    },
    {
      "cell_type": "code",
      "source": [
        "from google.colab import files\n",
        "files.upload()"
      ],
      "metadata": {
        "id": "vvD9KCdRDYF7"
      },
      "execution_count": null,
      "outputs": []
    },
    {
      "cell_type": "code",
      "source": [
        "import os\n",
        "!mkdir -p ~/.kaggle\n",
        "!cp kaggle.json ~/.kaggle/\n",
        "!chmod 600 ~/.kaggle/kaggle.json"
      ],
      "metadata": {
        "id": "FZSiqQUaDggd"
      },
      "execution_count": null,
      "outputs": []
    },
    {
      "cell_type": "code",
      "source": [
        "!kaggle datasets download -d sulianova/cardiovascular-disease-dataset"
      ],
      "metadata": {
        "id": "ELK6ng_UDO-_"
      },
      "execution_count": null,
      "outputs": []
    },
    {
      "cell_type": "code",
      "source": [
        "!unzip cardiovascular-disease-dataset.zip -d ./data"
      ],
      "metadata": {
        "id": "9fcXzzbHDnsm"
      },
      "execution_count": null,
      "outputs": []
    },
    {
      "cell_type": "markdown",
      "source": [
        "#### Import Libraries"
      ],
      "metadata": {
        "id": "EwsX2n4xFZ0L"
      }
    },
    {
      "cell_type": "code",
      "execution_count": null,
      "metadata": {
        "id": "dM10bxEaEeyy"
      },
      "outputs": [],
      "source": [
        "import pandas as pd\n",
        "import numpy as np\n",
        "import matplotlib.pyplot as plt\n",
        "import seaborn as sns"
      ]
    },
    {
      "cell_type": "markdown",
      "source": [
        "#### Import Data"
      ],
      "metadata": {
        "id": "ydlTAmsKFCMc"
      }
    },
    {
      "cell_type": "code",
      "source": [
        "train = pd.read_csv('cardio_train.csv')\n",
        "train.head()"
      ],
      "metadata": {
        "id": "X9qotSHTFja2"
      },
      "execution_count": null,
      "outputs": []
    },
    {
      "cell_type": "code",
      "source": [
        "train.info()"
      ],
      "metadata": {
        "id": "9QlbTRhYFn5A"
      },
      "execution_count": null,
      "outputs": []
    },
    {
      "cell_type": "code",
      "source": [
        "train.describe()"
      ],
      "metadata": {
        "id": "cYlbfkU2GIf1"
      },
      "execution_count": null,
      "outputs": []
    },
    {
      "cell_type": "markdown",
      "source": [
        "#### Data Preprocessing"
      ],
      "metadata": {
        "id": "i1qnokBJGNqk"
      }
    },
    {
      "cell_type": "code",
      "source": [
        "train.drop('Unnamed: 0', axis=1, inplace=True)\n",
        "train.drop('id', axis=1, inplace=True)"
      ],
      "metadata": {
        "id": "8p5YlN6cGLp1"
      },
      "execution_count": null,
      "outputs": []
    },
    {
      "cell_type": "code",
      "source": [
        "train[\"Age\"] = (train[\"age\"] / 365).round(0)\n",
        "train.to_csv(\"train_data.csv\", index=False)"
      ],
      "metadata": {
        "id": "y03qOFqJHoIM"
      },
      "execution_count": null,
      "outputs": []
    },
    {
      "cell_type": "code",
      "source": [
        "train.drop('age', axis=1, inplace=True)"
      ],
      "metadata": {
        "id": "dQaYHqd9HCFg"
      },
      "execution_count": null,
      "outputs": []
    },
    {
      "cell_type": "code",
      "source": [
        "train.drop('gender', axis=1, inplace=True)"
      ],
      "metadata": {
        "id": "flIQ2x-qXgfz"
      },
      "execution_count": null,
      "outputs": []
    },
    {
      "cell_type": "code",
      "source": [
        "train.isnull().sum()"
      ],
      "metadata": {
        "id": "D8b6IbZQMD4n"
      },
      "execution_count": null,
      "outputs": []
    },
    {
      "cell_type": "code",
      "source": [
        "train.dropna(inplace = True)"
      ],
      "metadata": {
        "id": "20r8QXl1MRAN"
      },
      "execution_count": null,
      "outputs": []
    },
    {
      "cell_type": "code",
      "source": [
        "for column in train :\n",
        "  train[column] = train[column].round().astype(int)\n"
      ],
      "metadata": {
        "id": "9C5iz1HbTDIr"
      },
      "execution_count": null,
      "outputs": []
    },
    {
      "cell_type": "code",
      "source": [
        "train.head()"
      ],
      "metadata": {
        "id": "n0ZpMwBcISL8"
      },
      "execution_count": null,
      "outputs": []
    },
    {
      "cell_type": "markdown",
      "source": [
        "#### Data Visualization"
      ],
      "metadata": {
        "id": "NbEFvvD8JcMD"
      }
    },
    {
      "cell_type": "code",
      "source": [
        "plt.figure(figsize=(10, 6))\n",
        "sns.scatterplot(x='cardio', y='ap_hi', data=train)\n",
        "plt.title('Blood pressure according to cardio')\n",
        "plt.xlabel('Cardio')\n",
        "plt.ylabel('Blood Pressure')\n",
        "plt.show()"
      ],
      "metadata": {
        "id": "vKAz7CZ0ISJU"
      },
      "execution_count": null,
      "outputs": []
    },
    {
      "cell_type": "code",
      "source": [
        "plt.figure(figsize=(10, 6))\n",
        "sns.scatterplot(x='cardio', y='Age', data=train)\n",
        "plt.title('Age according to cardio')\n",
        "plt.xlabel('Cardio')\n",
        "plt.ylabel('Age')\n",
        "plt.show()"
      ],
      "metadata": {
        "id": "mDRhMvmuUm_4"
      },
      "execution_count": null,
      "outputs": []
    },
    {
      "cell_type": "code",
      "source": [
        "plt.figure(figsize=(12, 10))\n",
        "sns.heatmap(train.corr(), annot=True, cmap='coolwarm')\n",
        "plt.title('Correlation Metrix')\n",
        "plt.show()"
      ],
      "metadata": {
        "id": "BXhrqIIEJOHP"
      },
      "execution_count": null,
      "outputs": []
    },
    {
      "cell_type": "markdown",
      "source": [
        "#### Handling Outliers"
      ],
      "metadata": {
        "id": "3AUBEv7yK3Qe"
      }
    },
    {
      "cell_type": "code",
      "source": [
        "Q1 = train['ap_hi'].quantile(0.25)\n",
        "Q3 = train['ap_hi'].quantile(0.75)\n",
        "IQR = Q3 - Q1\n",
        "train = train[~((train['ap_hi'] < (Q1 - 1.5 * IQR)) | (train['ap_hi'] > (Q3 + 1.5 * IQR)))]"
      ],
      "metadata": {
        "id": "soIIEcgeJOFf"
      },
      "execution_count": null,
      "outputs": []
    },
    {
      "cell_type": "markdown",
      "source": [
        "#### Splitting The Data"
      ],
      "metadata": {
        "id": "1wHK_2UsLVXj"
      }
    },
    {
      "cell_type": "code",
      "source": [
        "from sklearn.model_selection import train_test_split\n",
        "\n",
        "X = train.drop('cardio', axis=1)\n",
        "y = train['cardio']\n",
        "X_train, X_test, y_train, y_test = train_test_split(X, y, test_size=0.2, random_state=42)"
      ],
      "metadata": {
        "id": "zRU1JqcZJODP"
      },
      "execution_count": null,
      "outputs": []
    },
    {
      "cell_type": "markdown",
      "source": [
        "#### Training The Model"
      ],
      "metadata": {
        "id": "hyfzY3qPLuBB"
      }
    },
    {
      "cell_type": "code",
      "source": [
        "from sklearn.ensemble import RandomForestClassifier\n",
        "from sklearn.metrics import classification_report, confusion_matrix, accuracy_score\n",
        "\n",
        "model = RandomForestClassifier(n_estimators=100, random_state=42)\n",
        "model.fit(X_train, y_train)\n",
        "y_pred = model.predict(X_test)"
      ],
      "metadata": {
        "id": "-VJwZC-mLtsH"
      },
      "execution_count": null,
      "outputs": []
    },
    {
      "cell_type": "code",
      "source": [
        "result = confusion_matrix(y_test, y_pred)\n",
        "print(\"Confusion Matrix:\")\n",
        "print(result)\n",
        "\n",
        "accuracy = accuracy_score(y_test,y_pred)\n",
        "\n",
        "print(\"Accuracy:\",accuracy)"
      ],
      "metadata": {
        "id": "07ueeyBhMnNo"
      },
      "execution_count": null,
      "outputs": []
    },
    {
      "cell_type": "code",
      "source": [
        "test = pd.read_csv('cardio_test.csv')\n",
        "test.head()"
      ],
      "metadata": {
        "id": "cSFj9oJbG0lJ"
      },
      "execution_count": null,
      "outputs": []
    },
    {
      "cell_type": "code",
      "source": [
        "id = test['id']"
      ],
      "metadata": {
        "id": "UjA37Ok7gqyp"
      },
      "execution_count": null,
      "outputs": []
    },
    {
      "cell_type": "code",
      "source": [
        "test.drop('Unnamed: 0', axis=1, inplace=True)\n",
        "test.drop('id', axis=1, inplace=True)\n",
        "test.drop('gender', axis=1, inplace=True)"
      ],
      "metadata": {
        "id": "p7NRI7t7fXC4"
      },
      "execution_count": null,
      "outputs": []
    },
    {
      "cell_type": "code",
      "source": [
        "test.head()"
      ],
      "metadata": {
        "id": "J902m0Y1hVbi"
      },
      "execution_count": null,
      "outputs": []
    },
    {
      "cell_type": "code",
      "source": [
        "test[\"Age\"] = (test[\"age\"] / 365).round(0)\n",
        "test.to_csv(\"cardio_test.csv\", index=False)\n",
        "test.drop('age', axis=1, inplace=True)"
      ],
      "metadata": {
        "id": "-NwsLPWdfjx6"
      },
      "execution_count": null,
      "outputs": []
    },
    {
      "cell_type": "code",
      "source": [
        "test.drop('cardio', axis = 1, inplace = True)"
      ],
      "metadata": {
        "id": "Q-6o5dMdh5NM"
      },
      "execution_count": null,
      "outputs": []
    },
    {
      "cell_type": "code",
      "source": [
        "for column in test :\n",
        "  test[column] = test[column].round().astype(int)"
      ],
      "metadata": {
        "id": "Q0D_o4RWfuGm"
      },
      "execution_count": null,
      "outputs": []
    },
    {
      "cell_type": "code",
      "source": [
        "test_predictions = model.predict(test)\n",
        "\n",
        "submission = pd.DataFrame({'ID': id, 'cardio': test_predictions})\n",
        "\n",
        "submission.to_csv('submission.csv', index=False)"
      ],
      "metadata": {
        "id": "8r3MmUUtgCzV"
      },
      "execution_count": null,
      "outputs": []
    }
  ]
}